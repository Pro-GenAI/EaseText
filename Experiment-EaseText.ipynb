{
 "cells": [
  {
   "cell_type": "markdown",
   "metadata": {},
   "source": [
    "Copyright &copy; 2023-2024 Praneeth Vadlapati"
   ]
  },
  {
   "cell_type": "markdown",
   "metadata": {},
   "source": [
    "<!-- ## Setup:\n",
    "\n",
    "Example of .env: \n",
    "```bash\n",
    "# Groq API to use LLMs - https://console.groq.com/keys\n",
    "# Groq is preferred for fast responses\n",
    "LM_PROVIDER_BASE_URL=https://api.groq.com/openai/v1\n",
    "LM_API_KEY=\n",
    "LM_MODEL=\n",
    "\n",
    "```\n",
    "\n",
    "Installing packages:\n",
    "```bash\n",
    "pip install pandas openai python-dotenv\n",
    "``` -->"
   ]
  },
  {
   "cell_type": "markdown",
   "metadata": {},
   "source": [
    "## A. Selecting and loading an LLM"
   ]
  },
  {
   "cell_type": "code",
   "execution_count": 1,
   "metadata": {},
   "outputs": [],
   "source": [
    "import os\n",
    "import pandas as pd\n",
    "from common_functions import get_lm_response, model, extract_data, \\\n",
    "    display_md, data_folder\n",
    "\n",
    "model_folder = os.path.join(data_folder, model.split('/')[-1])\n",
    "if not os.path.exists(model_folder):\n",
    "\tos.makedirs(model_folder)"
   ]
  },
  {
   "cell_type": "markdown",
   "metadata": {},
   "source": [
    "## B. Creating large complex sentences"
   ]
  },
  {
   "cell_type": "code",
   "execution_count": 2,
   "metadata": {},
   "outputs": [
    {
     "data": {
      "text/markdown": [
       "  - Having conducted extensive research in the field of sociolinguistics, I am interested in investigating the intricate relationships between linguistic variation and social identity, particularly with regards to the syntactic and phonological features that are indicative of regional or ethnic affiliations, in order to further comprehend the underlying mechanisms of language change and diffusion within diverse speech communities, and to ultimately contribute to the development of more nuanced and sophisticated language policies that are reflective of the rich and dynamic linguistic landscapes that characterize our contemporary globalized world.\n",
       "  - As a scholar with a specialized focus in historical linguistics, I aim to elucidate the complex processes of language evolution and linguistic diversification, by examining the interplay between cultural, demographic, and geopolitical forces, and their consequential impact on the development and diffusion of distinct language families and their respective protolanguages, in an endeavor to uncover the deep-seated relationships between past sociocultural contexts and the cognitive frameworks that have shaped the linguistic structures and patterns that persist across disparate linguistic systems.\n",
       "  - In light of the recent advancements in cognitive linguistics and psycholinguistics, I am embarking on an ambitious research venture that seeks to elucidate the intricate mechanisms that underpin language processing and production, by comprehensively exploring the dynamic interactions between cognitive processes, linguistic structure, and communicative functions, in order to formulate a more comprehensive understanding of the cognitive underpinnings of language use and comprehension, and to pave the way for innovative interventions and applications within the realms of language education and clinical linguistics.\n"
      ],
      "text/plain": [
       "<IPython.core.display.Markdown object>"
      ]
     },
     "metadata": {},
     "output_type": "display_data"
    }
   ],
   "source": [
    "large_sentence_prompt = '''\n",
    "Act as an expert linguist who wants to test the readers for a research.\n",
    "Create large complex sentences that are:\n",
    "\t- grammatically correct and make sense.\n",
    "\t- have many clauses and phrases.\n",
    "\t- have many prepositional phrases.\n",
    "\t- use complex words that are difficult to understand without a dictionary.\n",
    "\t- have many commas and conjunctions.\n",
    "\t- 100 words long.\n",
    "\n",
    "Write 3 sentences. Each sentence should be in a separate line.\n",
    "Example response:\n",
    "<huge_sentences>\n",
    "Sentence 1\n",
    "Sentence 2\n",
    "</huge_sentences>\n",
    "'''\n",
    "large_sentence_response = get_lm_response(large_sentence_prompt)\n",
    "large_sentences = extract_data(large_sentence_response, tag='huge_sentences', absent_ok=True)\n",
    "\n",
    "large_sentences_list = []\n",
    "large_sentences_str = ''\n",
    "for line in large_sentences.split('\\n'):\n",
    "\tline = line.strip()\n",
    "\t# count whether there is 1 sentence in each line\n",
    "\tif not line or not line.replace('-', ''):  # only hyphen and no text\n",
    "\t\tcontinue\n",
    "\tif '. ' in line:  # I cannot fulfil your request.\n",
    "\t\tprint('Error: Got more than 1 sentence in a line.')\n",
    "\t\traise Exception()\n",
    "\tif 'Of course' in line or 'happy to' in line:  # happy to help\n",
    "\t\tcontinue\n",
    "\tif line.lower().startswith('sentence'):\n",
    "\t\tif line[-1] == ':':  # line is of the form 'Sentence 1:'\n",
    "\t\t\tcontinue\n",
    "\t\tif len(line) <= len('sentence ') + 3:  # line is of the form 'Sentence 1:'\n",
    "\t\t\tcontinue\n",
    "\t\tif ':' in line:\n",
    "\t\t\tline = line.split(':')[1].strip()\n",
    "\tlarge_sentences_list.append(line)\n",
    "\tlarge_sentences_str += '  - ' + line + '\\n'\n",
    "\n",
    "with open(os.path.join(model_folder, 'large_sentences.txt'), 'w') as f:\n",
    "\tf.write(large_sentences_str)\n",
    "display_md(large_sentences_str)"
   ]
  },
  {
   "cell_type": "markdown",
   "metadata": {},
   "source": [
    "## C. Simplifying the sentences"
   ]
  },
  {
   "cell_type": "code",
   "execution_count": 3,
   "metadata": {},
   "outputs": [
    {
     "data": {
      "text/markdown": [
       "I have studied different ways people speak and how it relates to their social identity. I want to understand how language changes and spreads in diverse communities, and help create better language policies.\n",
       "Reasons:\n",
       "  - Studied different ways people speak\n",
       "  - Interested in how language changes and spreads\n",
       "Summary: \n",
       "Interested in the relationships between language variation and social identity, and how it influences language change and language policies."
      ],
      "text/plain": [
       "<IPython.core.display.Markdown object>"
      ]
     },
     "metadata": {},
     "output_type": "display_data"
    },
    {
     "data": {
      "text/markdown": [
       "As a linguist focusing on historical language changes, I aim to understand how languages have evolved and diversified over time by looking at the effects of culture, population, and geography on the development and spread of different language groups and their early forms.\n",
       "Reasons:\n",
       "- Study language change\n",
       "- Explore impact of culture, population, and geography\n",
       "Summary: \n",
       "I study how cultural, demographic, and geopolitical factors have influenced the development and spread of language families and their early forms."
      ],
      "text/plain": [
       "<IPython.core.display.Markdown object>"
      ]
     },
     "metadata": {},
     "output_type": "display_data"
    },
    {
     "data": {
      "text/markdown": [
       "In light of new research in language and psychology, I am beginning a big research project to understand how our brains process and produce language by looking at how our thoughts, language structure, and communication all work together.\n",
       "Reasons:\n",
       "  - Cognitive linguistics and psycholinguistics advancements\n",
       "  - Elucidating language processing mechanisms\n",
       "Summary: (in 1 line)\n",
       "I am starting a research project to understand how our brains process and produce language."
      ],
      "text/plain": [
       "<IPython.core.display.Markdown object>"
      ]
     },
     "metadata": {},
     "output_type": "display_data"
    }
   ],
   "source": [
    "simplify_prompt_template = '''\n",
    "Sentence:\n",
    "{large_sentence}\n",
    "---\n",
    "\n",
    "Act as an expert linguist and simplify the sentences.\n",
    "Simplify the sentences by simplifying difficult words and phrases.\n",
    "Try to make bullet points for the complex sentence.\n",
    "Return inside tags.\n",
    "\n",
    "Example response:\n",
    "<simplified_sentence>\n",
    "Line 1\n",
    "Reasons:\n",
    "  - Reason 1\n",
    "  - Reason 2\n",
    "Summary: (in 1 line)\n",
    "Summary of the sentence.\n",
    "</simplified_sentence>\n",
    "'''\n",
    "simplified_text_list = []\n",
    "for line in large_sentences_list:\n",
    "\tif line.strip() == '':\n",
    "\t\tcontinue\n",
    "\tsimplify_prompt = simplify_prompt_template.format(large_sentence=line)\n",
    "\tsimplified_sentence_response = get_lm_response(simplify_prompt)\n",
    "\tsimplified_text = extract_data(simplified_sentence_response, \n",
    "\t\t\t\t\t\t\t\t\ttag='simplified_sentence', absent_ok=True)\n",
    "\tsimplified_text_list.append(simplified_text)\n",
    "\tdisplay_md(simplified_text)\n",
    "\n",
    "with open(os.path.join(model_folder, 'simplified_sentences.txt'), 'w') as f:\n",
    "\tf.write('\\n\\n'.join(simplified_text_list))"
   ]
  },
  {
   "cell_type": "markdown",
   "metadata": {},
   "source": [
    "## D. Validation of the simplified text"
   ]
  },
  {
   "cell_type": "code",
   "execution_count": 4,
   "metadata": {},
   "outputs": [
    {
     "data": {
      "text/html": [
       "<div>\n",
       "<style scoped>\n",
       "    .dataframe tbody tr th:only-of-type {\n",
       "        vertical-align: middle;\n",
       "    }\n",
       "\n",
       "    .dataframe tbody tr th {\n",
       "        vertical-align: top;\n",
       "    }\n",
       "\n",
       "    .dataframe thead th {\n",
       "        text-align: right;\n",
       "    }\n",
       "</style>\n",
       "<table border=\"1\" class=\"dataframe\">\n",
       "  <thead>\n",
       "    <tr style=\"text-align: right;\">\n",
       "      <th></th>\n",
       "      <th>Index</th>\n",
       "      <th>Validation Result</th>\n",
       "      <th>Comment</th>\n",
       "    </tr>\n",
       "  </thead>\n",
       "  <tbody>\n",
       "    <tr>\n",
       "      <th>0</th>\n",
       "      <td>1</td>\n",
       "      <td>True</td>\n",
       "      <td>The simplified sentence captures the main poin...</td>\n",
       "    </tr>\n",
       "    <tr>\n",
       "      <th>1</th>\n",
       "      <td>2</td>\n",
       "      <td>True</td>\n",
       "      <td>The simplified sentence captures the main idea...</td>\n",
       "    </tr>\n",
       "    <tr>\n",
       "      <th>2</th>\n",
       "      <td>3</td>\n",
       "      <td>True</td>\n",
       "      <td>The simplified sentence accurately captures th...</td>\n",
       "    </tr>\n",
       "  </tbody>\n",
       "</table>\n",
       "</div>"
      ],
      "text/plain": [
       "   Index Validation Result                                            Comment\n",
       "0      1              True  The simplified sentence captures the main poin...\n",
       "1      2              True  The simplified sentence captures the main idea...\n",
       "2      3              True  The simplified sentence accurately captures th..."
      ]
     },
     "execution_count": 4,
     "metadata": {},
     "output_type": "execute_result"
    }
   ],
   "source": [
    "validation_prompt = '''\n",
    "Large Sentence:\n",
    "{large_sentence}\n",
    "---\n",
    "Simplified Sentence:\n",
    "{simplified_text}\n",
    "---\n",
    "\n",
    "Act as an expert linguist and validate the meaning of the simplified sentence.\n",
    "Return comments inside tags, and then return the final validation result (True/False) inside tags.\n",
    "Example response:\n",
    "<comments>\n",
    "The simplified sentence does not capture the part about doctors.\n",
    "</comments>\n",
    "<validation>False</validation>\n",
    "'''\n",
    "validation_results = []\n",
    "for i, line in enumerate(large_sentences_list):\n",
    "\tsimplified_text = simplified_text_list[i]\n",
    "\tif not line.strip():\n",
    "\t\traise ValueError('Empty sentence for large_sentence')\n",
    "\tif not simplified_text.strip():\n",
    "\t\traise ValueError('Empty sentence for simplified_text')\n",
    "\n",
    "\tvalidation_prompt = validation_prompt.format(large_sentence=line,\n",
    "\t\t\t\t\t\t\t\t\t\t\t\tsimplified_text=simplified_text)\n",
    "\tvalidation_response = get_lm_response(validation_prompt)\n",
    "\tvalidation_res = extract_data(validation_response, tag='validation')\n",
    "\tcomments = extract_data(validation_response, tag='comments')\n",
    "\t# display_md(validation_res)\n",
    "\t# display_md(comments)\n",
    "\tvalidation_results.append({ 'Index': i+1, 'Validation Result': validation_res, 'Comment': comments })\n",
    "\n",
    "df = pd.DataFrame(validation_results)\n",
    "csv_file = os.path.join(model_folder, 'validation_results.csv')\n",
    "df.to_csv(csv_file, index=False)\n",
    "df"
   ]
  }
 ],
 "metadata": {
  "kernelspec": {
   "display_name": "venv",
   "language": "python",
   "name": "python3"
  },
  "language_info": {
   "codemirror_mode": {
    "name": "ipython",
    "version": 3
   },
   "file_extension": ".py",
   "mimetype": "text/x-python",
   "name": "python",
   "nbconvert_exporter": "python",
   "pygments_lexer": "ipython3",
   "version": "3.10.12"
  }
 },
 "nbformat": 4,
 "nbformat_minor": 2
}
